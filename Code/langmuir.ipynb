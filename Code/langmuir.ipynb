{
 "cells": [
  {
   "cell_type": "markdown",
   "metadata": {},
   "source": [
    "# Langmuir Probe\n",
    "\n",
    "Data analysis of the langmuir probe experiment.\n",
    "\n",
    "Data is obtained"
   ]
  },
  {
   "cell_type": "markdown",
   "metadata": {},
   "source": [
    "First, we import all the necessary modules"
   ]
  },
  {
   "cell_type": "code",
   "execution_count": 2,
   "metadata": {},
   "outputs": [],
   "source": [
    "import numpy as np\n",
    "from scipy import stats\n",
    "from scipy.optimize import curve_fit\n",
    "\n",
    "import matplotlib.axes as axes\n",
    "import matplotlib.pyplot as plt\n",
    "# from google.colab import files\n",
    "\n",
    "import pandas as pd\n",
    "import glob\n",
    "import os\n",
    "\n",
    "import scipy\n"
   ]
  },
  {
   "cell_type": "markdown",
   "metadata": {},
   "source": [
    "Now we define a custom function to load the data from the .txt files labview outputs"
   ]
  },
  {
   "cell_type": "code",
   "execution_count": null,
   "metadata": {},
   "outputs": [],
   "source": [
    "def load_langmuir_data(file_path):\n",
    "    \"\"\"\n",
    "    Load plasma data from file, extracting only the first section with 5 columns.\n",
    "\n",
    "    Parameters:\n",
    "    -----------\n",
    "    file_path : str\n",
    "        Path to the data file\n",
    "\n",
    "    Returns:\n",
    "    --------\n",
    "    pandas.DataFrame\n",
    "        DataFrame containing the 5 columns of data\n",
    "    \"\"\"\n",
    "    # Read file line by line\n",
    "    with open(file_path, 'r') as f:\n",
    "        lines = f.readlines()\n",
    "\n",
    "    # Find the first empty line\n",
    "    empty_line_index = -1\n",
    "    for i, line in enumerate(lines):\n",
    "        if line.strip() == '':\n",
    "            empty_line_index = i\n",
    "            break\n",
    "\n",
    "    # Handle case where no empty line was found\n",
    "    if empty_line_index == -1:\n",
    "        print(\"Warning: No empty line found. Using all lines in the file.\")\n",
    "        data_lines = lines\n",
    "    else:\n",
    "        data_lines = lines[:empty_line_index]\n",
    "\n",
    "    # Parse the data\n",
    "    data = []\n",
    "    skipped_lines = 0\n",
    "\n",
    "    # Try to detect if we need to handle different line formats\n",
    "    if len(data_lines) > 0:\n",
    "        sample_line = data_lines[0].strip()\n",
    "        if sample_line.endswith(','):\n",
    "            print(\"Detected lines ending with commas. Will remove trailing commas.\")\n",
    "        else:\n",
    "            print(\"Lines do not end with commas.\")\n",
    "\n",
    "    for line in data_lines:\n",
    "        # Remove trailing comma if present\n",
    "        clean_line = line.rstrip(',\\r\\n')\n",
    "        # Split by comma\n",
    "        values = clean_line.split(',')\n",
    "\n",
    "        # Filter out empty strings and convert to float\n",
    "        # If there's an empty value, replace with NaN\n",
    "        float_values = []\n",
    "        for val in values:\n",
    "            if val.strip():  # Check if the value is not just whitespace\n",
    "                float_values.append(float(val))\n",
    "            else:\n",
    "                float_values.append(float('nan'))\n",
    "\n",
    "        # Only take the first 5 columns (pad with NaN if fewer than 5)\n",
    "        while len(float_values) < 5:\n",
    "            float_values.append(float('nan'))\n",
    "\n",
    "        # Skip lines that would cause problems (all NaN or empty)\n",
    "        if not all(np.isnan(val) for val in float_values[:5]):\n",
    "            data.append(float_values[:5])\n",
    "        else:\n",
    "            skipped_lines += 1\n",
    "\n",
    "    # Create DataFrame\n",
    "    df = pd.DataFrame(data, columns=[\n",
    "        'Voltage (V)',  # Based on the first column values\n",
    "        'Current (A)',  # Small values in scientific notation\n",
    "        'Unknown1',     # Large values with scientific notation\n",
    "        'Unknown2',     # Values around 4130-4190\n",
    "        'Unknown3'      # Constant values at 21508\n",
    "    ])\n",
    "\n",
    "    if skipped_lines > 0:\n",
    "        print(f\"Warning: Skipped {skipped_lines} lines that were empty or could not be parsed.\")\n",
    "\n",
    "    return df"
   ]
  },
  {
   "cell_type": "code",
   "execution_count": null,
   "metadata": {},
   "outputs": [],
   "source": [
    "DATA_DIRECTORY = \"/content/physics191_plasma/athalia and jorge's data/langmuir/\"\n"
   ]
  }
 ],
 "metadata": {
  "kernelspec": {
   "display_name": ".venv",
   "language": "python",
   "name": "python3"
  },
  "language_info": {
   "codemirror_mode": {
    "name": "ipython",
    "version": 3
   },
   "file_extension": ".py",
   "mimetype": "text/x-python",
   "name": "python",
   "nbconvert_exporter": "python",
   "pygments_lexer": "ipython3",
   "version": "3.13.1"
  }
 },
 "nbformat": 4,
 "nbformat_minor": 2
}
